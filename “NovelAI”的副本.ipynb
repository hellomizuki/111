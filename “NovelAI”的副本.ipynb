{
  "cells": [
    {
      "cell_type": "markdown",
      "metadata": {
        "id": "view-in-github",
        "colab_type": "text"
      },
      "source": [
        "<a href=\"https://colab.research.google.com/github/hellomizuki/111/blob/main/%E2%80%9CNovelAI%E2%80%9D%E7%9A%84%E5%89%AF%E6%9C%AC.ipynb\" target=\"_parent\"><img src=\"https://colab.research.google.com/assets/colab-badge.svg\" alt=\"Open In Colab\"/></a>"
      ]
    },
    {
      "cell_type": "markdown",
      "metadata": {
        "id": "KZ88G-iWCTs7"
      },
      "source": [
        "使用官方前端 + 优化版后端，可突破75限制，支持所有模型\n"
      ]
    },
    {
      "cell_type": "code",
      "execution_count": 1,
      "metadata": {
        "colab": {
          "base_uri": "https://localhost:8080/"
        },
        "id": "X5yF8TS1CR3L",
        "outputId": "db883b86-a92f-4d23-8db2-5daec9114ff3"
      },
      "outputs": [
        {
          "output_type": "stream",
          "name": "stdout",
          "text": [
            "Mon Jan  9 14:06:16 2023       \n",
            "+-----------------------------------------------------------------------------+\n",
            "| NVIDIA-SMI 460.32.03    Driver Version: 460.32.03    CUDA Version: 11.2     |\n",
            "|-------------------------------+----------------------+----------------------+\n",
            "| GPU  Name        Persistence-M| Bus-Id        Disp.A | Volatile Uncorr. ECC |\n",
            "| Fan  Temp  Perf  Pwr:Usage/Cap|         Memory-Usage | GPU-Util  Compute M. |\n",
            "|                               |                      |               MIG M. |\n",
            "|===============================+======================+======================|\n",
            "|   0  Tesla T4            Off  | 00000000:00:04.0 Off |                    0 |\n",
            "| N/A   45C    P0    27W /  70W |      0MiB / 15109MiB |      0%      Default |\n",
            "|                               |                      |                  N/A |\n",
            "+-------------------------------+----------------------+----------------------+\n",
            "                                                                               \n",
            "+-----------------------------------------------------------------------------+\n",
            "| Processes:                                                                  |\n",
            "|  GPU   GI   CI        PID   Type   Process name                  GPU Memory |\n",
            "|        ID   ID                                                   Usage      |\n",
            "|=============================================================================|\n",
            "|  No running processes found                                                 |\n",
            "+-----------------------------------------------------------------------------+\n"
          ]
        }
      ],
      "source": [
        "#@title ### 检查 GPU 工作状态\n",
        "\n",
        "!nvidia-smi"
      ]
    },
    {
      "cell_type": "code",
      "execution_count": null,
      "metadata": {
        "colab": {
          "base_uri": "https://localhost:8080/"
        },
        "id": "iqTO_Uf3F6VW",
        "outputId": "a667f504-7ad7-46ec-922e-d09313ff1edd",
        "cellView": "form"
      },
      "outputs": [
        {
          "output_type": "stream",
          "name": "stdout",
          "text": [
            " *** Download Progress Summary as of Thu Jan  5 12:18:03 2023 *** \n",
            "=\n",
            "[#0c2049 3.7GiB/7.4GiB(50%) CN:3 DL:5.1MiB ETA:12m19s]\n",
            "FILE: /content/naifu.tar\n",
            "-\n",
            "\n",
            " *** Download Progress Summary as of Thu Jan  5 12:18:09 2023 *** \n",
            "=\n",
            "[#0c2049 3.7GiB/7.4GiB(50%) CN:3 DL:5.5MiB ETA:11m18s]\n",
            "FILE: /content/naifu.tar\n",
            "-\n",
            "\n",
            "\u001b[0m\n",
            "01/05 12:18:10 [\u001b[1;32mNOTICE\u001b[0m] Shutdown sequence commencing... Press Ctrl-C again for emergency shutdown.\n",
            "\n",
            "01/05 12:18:10 [\u001b[1;32mNOTICE\u001b[0m] Download GID#0c2049a9e688f8df not complete: /content/naifu.tar\n",
            "\n",
            "Download Results:\n",
            "gid   |stat|avg speed  |path/URI\n",
            "======+====+===========+=======================================================\n",
            "757827|\u001b[1;32mOK\u001b[0m  |    12MiB/s|/content/animefull-latest.tar\n",
            "0c2049|\u001b[1;34mINPR\u001b[0m|   5.6MiB/s|/content/naifu.tar\n",
            "\n",
            "Status Legend:\n",
            "(OK):download completed.(INPR):download in-progress.\n",
            "\n",
            "aria2 will resume download if the transfer is restarted.\n",
            "If there are any errors, then see the log file. See '-l' option in help/man page for details.\n",
            "Decompressing...\n",
            "Done.\n"
          ]
        }
      ],
      "source": [
        "#@title ### 下载 Novel AI API 后端、模型 \n",
        "#@markdown 如果下载速度太慢可尝试重新启动\n",
        "\n",
        "%cd /content/\n",
        "!apt install -y -qq aria2\n",
        "!aria2c --summary-interval=5 -x 3 --allow-overwrite=true -Z \\\n",
        "  https://pub-2fdef7a2969f43289c42ac5ae3412fd4.r2.dev/naifu.tar \\\n",
        "  https://pub-2fdef7a2969f43289c42ac5ae3412fd4.r2.dev/animefull-latest.tar \n",
        "  \n",
        "!echo \"Decompressing...\"\n",
        "!tar xf naifu.tar && rm naifu.tar\n",
        "!echo \"Done.\""
      ]
    },
    {
      "cell_type": "code",
      "execution_count": null,
      "metadata": {
        "colab": {
          "base_uri": "https://localhost:8080/"
        },
        "id": "BysBfYRmGSo1",
        "outputId": "0bfaac64-7014-44ff-9ef0-4a2590a986ac"
      },
      "outputs": [
        {
          "output_type": "stream",
          "name": "stdout",
          "text": [
            "/content/naifu\n",
            "Looking in indexes: https://pypi.org/simple, https://us-python.pkg.dev/colab-wheels/public/simple/\n",
            "Collecting virtualenv\n",
            "  Downloading virtualenv-20.17.1-py3-none-any.whl (8.8 MB)\n",
            "\u001b[2K     \u001b[90m━━━━━━━━━━━━━━━━━━━━━━━━━━━━━━━━━━━━━━━━\u001b[0m \u001b[32m8.8/8.8 MB\u001b[0m \u001b[31m68.0 MB/s\u001b[0m eta \u001b[36m0:00:00\u001b[0m\n",
            "\u001b[?25hRequirement already satisfied: platformdirs<3,>=2.4 in /usr/local/lib/python3.8/dist-packages (from virtualenv) (2.6.0)\n",
            "Collecting distlib<1,>=0.3.6\n",
            "  Downloading distlib-0.3.6-py2.py3-none-any.whl (468 kB)\n",
            "\u001b[2K     \u001b[90m━━━━━━━━━━━━━━━━━━━━━━━━━━━━━━━━━━━━━━\u001b[0m \u001b[32m468.5/468.5 KB\u001b[0m \u001b[31m44.0 MB/s\u001b[0m eta \u001b[36m0:00:00\u001b[0m\n",
            "\u001b[?25hRequirement already satisfied: filelock<4,>=3.4.1 in /usr/local/lib/python3.8/dist-packages (from virtualenv) (3.8.2)\n",
            "Installing collected packages: distlib, virtualenv\n",
            "Successfully installed distlib-0.3.6 virtualenv-20.17.1\n",
            "bash: ./setup.sh: No such file or directory\n",
            "  % Total    % Received % Xferd  Average Speed   Time    Time     Time  Current\n",
            "                                 Dload  Upload   Total   Spent    Left  Speed\n",
            "  0     0    0     0    0     0      0      0 --:--:-- --:--:-- --:--:--     0\n",
            "  0     0    0     0    0     0      0      0 --:--:-- --:--:-- --:--:--     0\n",
            "100 33.6M  100 33.6M    0     0  54.6M      0 --:--:-- --:--:-- --:--:--  148M\n",
            "/bin/bash: /content/naifu/venv/bin/python: No such file or directory\n"
          ]
        }
      ],
      "source": [
        "#@title ### 安装依赖\n",
        "#@markdown 耐心等待安装完成\n",
        "\n",
        "%cd /content/naifu\n",
        "!pip install virtualenv && bash ./setup.sh\n",
        "!curl -Ls https://github.com/ekzhang/bore/releases/download/v0.4.0/bore-v0.4.0-x86_64-unknown-linux-musl.tar.gz | tar zx -C /usr/bin\n",
        "!curl -Lo /usr/bin/cloudflared https://github.com/cloudflare/cloudflared/releases/latest/download/cloudflared-linux-amd64 && chmod +x /usr/bin/cloudflared\n",
        "!/content/naifu/venv/bin/python -m pip install -qq pytorch_lightning==1.7.7"
      ]
    },
    {
      "cell_type": "markdown",
      "metadata": {
        "id": "j4xBljIeZfHC"
      },
      "source": [
        "下载中文汉化包并解压（可选）"
      ]
    },
    {
      "cell_type": "code",
      "execution_count": null,
      "metadata": {
        "colab": {
          "base_uri": "https://localhost:8080/"
        },
        "id": "_3luPK_hZall",
        "outputId": "8f1fba5b-4f5d-4e97-bb13-9cdcc45e502e"
      },
      "outputs": [
        {
          "output_type": "stream",
          "name": "stdout",
          "text": [
            "  % Total    % Received % Xferd  Average Speed   Time    Time     Time  Current\n",
            "                                 Dload  Upload   Total   Spent    Left  Speed\n",
            "100 4096k  100 4096k    0     0   164k      0  0:00:24  0:00:24 --:--:--  202k\n",
            "Archive:  /content/naifu/Naifu.zip\n",
            "  inflating: static/404.html         \n",
            "  inflating: static/icons/novelai-round.png  \n",
            "  inflating: static/index.html       \n",
            "  inflating: static/manifest.json    \n",
            "   creating: static/old/\n",
            "  inflating: static/old/404.html     \n",
            "   creating: static/old/icons/\n",
            "  inflating: static/old/icons/novelai-round.png  \n",
            "  inflating: static/old/index.html   \n",
            "  inflating: static/old/manifest.json  \n",
            "   creating: static/old/tokenizer/\n",
            "  inflating: static/old/tokenizer/clip_tokenizer.json  \n",
            " extracting: static/old/version      \n",
            "   creating: static/old/_next/\n",
            "   creating: static/old/_next/MG2vPPHR3En34h0ZDGvU7/\n",
            "   creating: static/old/_next/static/\n",
            "   creating: static/old/_next/static/chunks/\n",
            "  inflating: static/old/_next/static/chunks/140.a9739eb472fc0dc3.js  \n",
            "  inflating: static/old/_next/static/chunks/157.4184b7ea2aeb8d93.js  \n",
            "  inflating: static/old/_next/static/chunks/247.9ec9f56bc609a550.js  \n",
            "  inflating: static/old/_next/static/chunks/29.b2e166aba593b62e.js  \n",
            "  inflating: static/old/_next/static/chunks/main-f17b067b102428ca.js  \n",
            "   creating: static/old/_next/static/chunks/pages/\n",
            "  inflating: static/old/_next/static/chunks/pages/index-67838cc9a284731b.js  \n",
            "  inflating: static/old/_next/static/chunks/pages/_app-128a4b077453e8e5.js  \n",
            "  inflating: static/old/_next/static/chunks/pages/_error-41335750e27ece98.js  \n",
            "  inflating: static/old/_next/static/chunks/polyfills-c67a75d1b6f99dc8.js  \n",
            "  inflating: static/old/_next/static/chunks/webpack-b9b5e27f3c90f79a.js  \n",
            "   creating: static/old/_next/static/css/\n",
            "  inflating: static/old/_next/static/css/32f1e54debdb3c74.css  \n",
            "   creating: static/old/_next/static/media/\n",
            "  inflating: static/old/_next/static/media/Aa.1034ae44.svg  \n",
            "  inflating: static/old/_next/static/media/anla.23c99491.svg  \n",
            "  inflating: static/old/_next/static/media/arrow2.b5bd8cd1.svg  \n",
            "  inflating: static/old/_next/static/media/background.3c0610ee.svg  \n",
            "  inflating: static/old/_next/static/media/backsend.ca6f3143.svg  \n",
            "  inflating: static/old/_next/static/media/bat.239bfc25.svg  \n",
            "  inflating: static/old/_next/static/media/beaker.77311fe9.svg  \n",
            "  inflating: static/old/_next/static/media/big_lightbulb.05646e13.svg  \n",
            " extracting: static/old/_next/static/media/blue.dd1265a6.webp  \n",
            "  inflating: static/old/_next/static/media/book-open.e6d9fcb0.svg  \n",
            "  inflating: static/old/_next/static/media/book.4bc5e784.svg  \n",
            "  inflating: static/old/_next/static/media/box-check.c09806e0.svg  \n",
            "  inflating: static/old/_next/static/media/check.c906eb0a.svg  \n",
            "  inflating: static/old/_next/static/media/circle.e644cf70.svg  \n",
            "  inflating: static/old/_next/static/media/clipboard.579cb9e6.svg  \n",
            "  inflating: static/old/_next/static/media/color_drop.c81b28c7.svg  \n",
            "  inflating: static/old/_next/static/media/copy.d4914987.svg  \n",
            "  inflating: static/old/_next/static/media/copyalt.0df72d63.svg  \n",
            "  inflating: static/old/_next/static/media/cross-rounded.d6ef31ad.svg  \n",
            "  inflating: static/old/_next/static/media/cross.fac5a02a.svg  \n",
            "  inflating: static/old/_next/static/media/directional_arrow_down.d4fa840f.svg  \n",
            "  inflating: static/old/_next/static/media/directional_arrow_left.23762161.svg  \n",
            "  inflating: static/old/_next/static/media/directional_arrow_right.4bc82584.svg  \n",
            "  inflating: static/old/_next/static/media/directional_arrow_up.fb757b3d.svg  \n",
            "  inflating: static/old/_next/static/media/dock.4516b14d.svg  \n",
            "  inflating: static/old/_next/static/media/dot-reset.dc47fd69.svg  \n",
            "  inflating: static/old/_next/static/media/dotdotdot.97bb8a73.svg  \n",
            "  inflating: static/old/_next/static/media/dropper.78b85b64.svg  \n",
            "  inflating: static/old/_next/static/media/easel.a9aec978.svg  \n",
            "  inflating: static/old/_next/static/media/edit.d3a97fb9.svg  \n",
            "  inflating: static/old/_next/static/media/empty_sparkles.4c1b822d.svg  \n",
            "  inflating: static/old/_next/static/media/eraser.0ec62cc8.svg  \n",
            "  inflating: static/old/_next/static/media/exclamation_point.36285c73.svg  \n",
            "  inflating: static/old/_next/static/media/export.235cebdc.svg  \n",
            "  inflating: static/old/_next/static/media/file.85f8c0bb.svg  \n",
            "  inflating: static/old/_next/static/media/folder.1578ca01.svg  \n",
            "  inflating: static/old/_next/static/media/funnelEmpty.8b01f76a.svg  \n",
            "  inflating: static/old/_next/static/media/funnelFilled.7378db17.svg  \n",
            "  inflating: static/old/_next/static/media/hamburger_menu.2e822996.svg  \n",
            "  inflating: static/old/_next/static/media/heart_disabled.208bfe74.svg  \n",
            "  inflating: static/old/_next/static/media/heart_enabled.3dfca10c.svg  \n",
            "  inflating: static/old/_next/static/media/history.b9b000e8.svg  \n",
            "  inflating: static/old/_next/static/media/home.55b6633f.svg  \n",
            "  inflating: static/old/_next/static/media/image_down.b412ac6a.svg  \n",
            "  inflating: static/old/_next/static/media/import.a2828e2c.svg  \n",
            "  inflating: static/old/_next/static/media/ink.b170bd13.svg  \n",
            "  inflating: static/old/_next/static/media/left_sparkles.2820a760.svg  \n",
            "  inflating: static/old/_next/static/media/link.f0b6f71f.svg  \n",
            "  inflating: static/old/_next/static/media/logout.0b906fff.svg  \n",
            "  inflating: static/old/_next/static/media/magglass.28078752.svg  \n",
            "  inflating: static/old/_next/static/media/mid_cross.3a829919.svg  \n",
            "  inflating: static/old/_next/static/media/mind.07f3205c.svg  \n",
            "  inflating: static/old/_next/static/media/minus.3db8267d.svg  \n",
            " extracting: static/old/_next/static/media/modelplaceholder.38014879.png  \n",
            "  inflating: static/old/_next/static/media/module.c1427be9.svg  \n",
            "  inflating: static/old/_next/static/media/novelnai.d4479e54.png  \n",
            "  inflating: static/old/_next/static/media/opus.ff05f89c.svg  \n",
            "  inflating: static/old/_next/static/media/party.eb2ded01.svg  \n",
            "  inflating: static/old/_next/static/media/pen-tip-light.47883c90.svg  \n",
            "  inflating: static/old/_next/static/media/pen.87137c5d.svg  \n",
            "  inflating: static/old/_next/static/media/penwriting.3c214126.svg  \n",
            "  inflating: static/old/_next/static/media/place1.fa8c7d0b.svg  \n",
            "  inflating: static/old/_next/static/media/place2.137b37b0.svg  \n",
            "  inflating: static/old/_next/static/media/place3.59a9ed68.svg  \n",
            "  inflating: static/old/_next/static/media/placeS.803da8ce.svg  \n",
            "  inflating: static/old/_next/static/media/play.e6aa4008.svg  \n",
            "  inflating: static/old/_next/static/media/plus.dc778eb7.svg  \n",
            "  inflating: static/old/_next/static/media/redo.c8b50748.svg  \n",
            "  inflating: static/old/_next/static/media/reload.bd9372a2.svg  \n",
            "  inflating: static/old/_next/static/media/reset.1df15d3b.svg  \n",
            "  inflating: static/old/_next/static/media/right_sparkles.90f26325.svg  \n",
            "  inflating: static/old/_next/static/media/save.36b86afc.svg  \n",
            "  inflating: static/old/_next/static/media/scroll.4ba6375b.svg  \n",
            "  inflating: static/old/_next/static/media/select.429034b7.svg  \n",
            "  inflating: static/old/_next/static/media/send.7ad89787.svg  \n",
            "  inflating: static/old/_next/static/media/settings.37ac2cdf.svg  \n",
            "  inflating: static/old/_next/static/media/signal.70c96fbb.svg  \n",
            "  inflating: static/old/_next/static/media/sliders.d0cb761e.svg  \n",
            "  inflating: static/old/_next/static/media/small_arrow.1099f431.svg  \n",
            "  inflating: static/old/_next/static/media/small_cross.8d803d20.svg  \n",
            " extracting: static/old/_next/static/media/SourceSansPro-Regular.ba487c32.woff2  \n",
            "  inflating: static/old/_next/static/media/sparkles.b1e1a420.svg  \n",
            "  inflating: static/old/_next/static/media/speech-bubble.342ebbc8.svg  \n",
            "  inflating: static/old/_next/static/media/stats.16a1cab3.svg  \n",
            "  inflating: static/old/_next/static/media/swords.c2afd253.svg  \n",
            "  inflating: static/old/_next/static/media/tablet.399dae58.svg  \n",
            "  inflating: static/old/_next/static/media/text.995ae72b.svg  \n",
            "  inflating: static/old/_next/static/media/thumb.8ee8c992.svg  \n",
            "  inflating: static/old/_next/static/media/thumbempty.97de9965.svg  \n",
            "  inflating: static/old/_next/static/media/trash.72ef2ba9.svg  \n",
            "  inflating: static/old/_next/static/media/undo.d181fecf.svg  \n",
            "  inflating: static/old/_next/static/media/undock.f3ea07df.svg  \n",
            "  inflating: static/old/_next/static/media/variations.d35c8a3a.svg  \n",
            "  inflating: static/old/_next/static/media/walking.a0f1929a.svg  \n",
            "  inflating: static/old/_next/static/media/world.0a5a1660.svg  \n",
            "   creating: static/old/_next/static/MG2vPPHR3En34h0ZDGvU7/\n",
            "  inflating: static/old/_next/static/MG2vPPHR3En34h0ZDGvU7/_buildManifest.js  \n",
            "  inflating: static/old/_next/static/MG2vPPHR3En34h0ZDGvU7/_ssgManifest.js  \n",
            "  inflating: static/tokenizer/clip_tokenizer.json  \n",
            " extracting: static/version          \n",
            "   creating: static/_next/iOAiUfaIqGfmt0b-o-tJ0/\n",
            "  inflating: static/_next/static/chunks/140.a9739eb472fc0dc3.js  \n",
            "  inflating: static/_next/static/chunks/157.4184b7ea2aeb8d93.js  \n",
            "  inflating: static/_next/static/chunks/247.9ec9f56bc609a550.js  \n",
            "  inflating: static/_next/static/chunks/29.b2e166aba593b62e.js  \n",
            "  inflating: static/_next/static/chunks/main-f17b067b102428ca.js  \n",
            "  inflating: static/_next/static/chunks/pages/index-67838cc9a284731b.js  \n",
            "  inflating: static/_next/static/chunks/pages/index-9063cb5cbe951293.js  \n",
            "  inflating: static/_next/static/chunks/pages/_app-128a4b077453e8e5.js  \n",
            "  inflating: static/_next/static/chunks/pages/_error-41335750e27ece98.js  \n",
            "  inflating: static/_next/static/chunks/polyfills-c67a75d1b6f99dc8.js  \n",
            "  inflating: static/_next/static/chunks/webpack-b529e21bca11caf2.js  \n",
            "  inflating: static/_next/static/chunks/webpack-b9b5e27f3c90f79a.js  \n",
            "  inflating: static/_next/static/css/32f1e54debdb3c74.css  \n",
            "   creating: static/_next/static/iOAiUfaIqGfmt0b-o-tJ0/\n",
            "  inflating: static/_next/static/iOAiUfaIqGfmt0b-o-tJ0/_buildManifest.js  \n",
            "  inflating: static/_next/static/iOAiUfaIqGfmt0b-o-tJ0/_ssgManifest.js  \n",
            "  inflating: static/_next/static/media/Aa.1034ae44.svg  \n",
            "  inflating: static/_next/static/media/anla.23c99491.svg  \n",
            "  inflating: static/_next/static/media/arrow2.b5bd8cd1.svg  \n",
            "  inflating: static/_next/static/media/background.3c0610ee.svg  \n",
            "  inflating: static/_next/static/media/backsend.ca6f3143.svg  \n",
            "  inflating: static/_next/static/media/bat.239bfc25.svg  \n",
            "  inflating: static/_next/static/media/beaker.77311fe9.svg  \n",
            "  inflating: static/_next/static/media/big_lightbulb.05646e13.svg  \n",
            " extracting: static/_next/static/media/blue.dd1265a6.webp  \n",
            "  inflating: static/_next/static/media/book-open.e6d9fcb0.svg  \n",
            "  inflating: static/_next/static/media/book.4bc5e784.svg  \n",
            "  inflating: static/_next/static/media/box-check.c09806e0.svg  \n",
            "  inflating: static/_next/static/media/check.c906eb0a.svg  \n",
            "  inflating: static/_next/static/media/circle.e644cf70.svg  \n",
            "  inflating: static/_next/static/media/clipboard.579cb9e6.svg  \n",
            "  inflating: static/_next/static/media/color_drop.c81b28c7.svg  \n",
            "  inflating: static/_next/static/media/copy.d4914987.svg  \n",
            "  inflating: static/_next/static/media/copyalt.0df72d63.svg  \n",
            "  inflating: static/_next/static/media/cross-rounded.d6ef31ad.svg  \n",
            "  inflating: static/_next/static/media/cross.fac5a02a.svg  \n",
            "  inflating: static/_next/static/media/directional_arrow_down.d4fa840f.svg  \n",
            "  inflating: static/_next/static/media/directional_arrow_left.23762161.svg  \n",
            "  inflating: static/_next/static/media/directional_arrow_right.4bc82584.svg  \n",
            "  inflating: static/_next/static/media/directional_arrow_up.fb757b3d.svg  \n",
            "  inflating: static/_next/static/media/dock.4516b14d.svg  \n",
            "  inflating: static/_next/static/media/dot-reset.dc47fd69.svg  \n",
            "  inflating: static/_next/static/media/dotdotdot.97bb8a73.svg  \n",
            "  inflating: static/_next/static/media/dropper.78b85b64.svg  \n",
            "  inflating: static/_next/static/media/easel.a9aec978.svg  \n",
            "  inflating: static/_next/static/media/edit.d3a97fb9.svg  \n",
            "  inflating: static/_next/static/media/empty_sparkles.4c1b822d.svg  \n",
            "  inflating: static/_next/static/media/eraser.0ec62cc8.svg  \n",
            "  inflating: static/_next/static/media/exclamation_point.36285c73.svg  \n",
            "  inflating: static/_next/static/media/export.235cebdc.svg  \n",
            "  inflating: static/_next/static/media/file.85f8c0bb.svg  \n",
            "  inflating: static/_next/static/media/folder.1578ca01.svg  \n",
            "  inflating: static/_next/static/media/funnelEmpty.8b01f76a.svg  \n",
            "  inflating: static/_next/static/media/funnelFilled.7378db17.svg  \n",
            "  inflating: static/_next/static/media/hamburger_menu.2e822996.svg  \n",
            "  inflating: static/_next/static/media/heart_disabled.208bfe74.svg  \n",
            "  inflating: static/_next/static/media/heart_enabled.3dfca10c.svg  \n",
            "  inflating: static/_next/static/media/history.b9b000e8.svg  \n",
            "  inflating: static/_next/static/media/home.55b6633f.svg  \n",
            "  inflating: static/_next/static/media/image_down.b412ac6a.svg  \n",
            "  inflating: static/_next/static/media/import.a2828e2c.svg  \n",
            "  inflating: static/_next/static/media/ink.b170bd13.svg  \n",
            "  inflating: static/_next/static/media/left_sparkles.2820a760.svg  \n",
            "  inflating: static/_next/static/media/link.f0b6f71f.svg  \n",
            "  inflating: static/_next/static/media/logout.0b906fff.svg  \n",
            "  inflating: static/_next/static/media/magglass.28078752.svg  \n",
            "  inflating: static/_next/static/media/mid_cross.3a829919.svg  \n",
            "  inflating: static/_next/static/media/mind.07f3205c.svg  \n",
            "  inflating: static/_next/static/media/minus.3db8267d.svg  \n",
            " extracting: static/_next/static/media/modelplaceholder.38014879.png  \n",
            "  inflating: static/_next/static/media/module.c1427be9.svg  \n",
            "  inflating: static/_next/static/media/novelnai.d4479e54.png  \n",
            "  inflating: static/_next/static/media/opus.ff05f89c.svg  \n",
            "  inflating: static/_next/static/media/party.eb2ded01.svg  \n",
            "  inflating: static/_next/static/media/pen-tip-light.47883c90.svg  \n",
            "  inflating: static/_next/static/media/pen.87137c5d.svg  \n",
            "  inflating: static/_next/static/media/penwriting.3c214126.svg  \n",
            "  inflating: static/_next/static/media/place1.fa8c7d0b.svg  \n",
            "  inflating: static/_next/static/media/place2.137b37b0.svg  \n",
            "  inflating: static/_next/static/media/place3.59a9ed68.svg  \n",
            "  inflating: static/_next/static/media/placeS.803da8ce.svg  \n",
            "  inflating: static/_next/static/media/play.e6aa4008.svg  \n",
            "  inflating: static/_next/static/media/plus.dc778eb7.svg  \n",
            "  inflating: static/_next/static/media/redo.c8b50748.svg  \n",
            "  inflating: static/_next/static/media/reload.bd9372a2.svg  \n",
            "  inflating: static/_next/static/media/reset.1df15d3b.svg  \n",
            "  inflating: static/_next/static/media/right_sparkles.90f26325.svg  \n",
            "  inflating: static/_next/static/media/save.36b86afc.svg  \n",
            "  inflating: static/_next/static/media/scroll.4ba6375b.svg  \n",
            "  inflating: static/_next/static/media/select.429034b7.svg  \n",
            "  inflating: static/_next/static/media/send.7ad89787.svg  \n",
            "  inflating: static/_next/static/media/settings.37ac2cdf.svg  \n",
            "  inflating: static/_next/static/media/signal.70c96fbb.svg  \n",
            "  inflating: static/_next/static/media/sliders.d0cb761e.svg  \n",
            "  inflating: static/_next/static/media/small_arrow.1099f431.svg  \n",
            "  inflating: static/_next/static/media/small_cross.8d803d20.svg  \n",
            " extracting: static/_next/static/media/SourceSansPro-Regular.ba487c32.woff2  \n",
            "  inflating: static/_next/static/media/sparkles.b1e1a420.svg  \n",
            "  inflating: static/_next/static/media/speech-bubble.342ebbc8.svg  \n",
            "  inflating: static/_next/static/media/stats.16a1cab3.svg  \n",
            "  inflating: static/_next/static/media/swords.c2afd253.svg  \n",
            "  inflating: static/_next/static/media/tablet.399dae58.svg  \n",
            "  inflating: static/_next/static/media/text.995ae72b.svg  \n",
            "  inflating: static/_next/static/media/thumb.8ee8c992.svg  \n",
            "  inflating: static/_next/static/media/thumbempty.97de9965.svg  \n",
            "  inflating: static/_next/static/media/trash.72ef2ba9.svg  \n",
            "  inflating: static/_next/static/media/undo.d181fecf.svg  \n",
            "  inflating: static/_next/static/media/undock.f3ea07df.svg  \n",
            "  inflating: static/_next/static/media/variations.d35c8a3a.svg  \n",
            "  inflating: static/_next/static/media/walking.a0f1929a.svg  \n",
            "  inflating: static/_next/static/media/world.0a5a1660.svg  \n",
            "  inflating: static/_next/static/MG2vPPHR3En34h0ZDGvU7/_buildManifest.js  \n",
            "  inflating: static/_next/static/MG2vPPHR3En34h0ZDGvU7/_ssgManifest.js  \n"
          ]
        }
      ],
      "source": [
        "!curl -o /content/naifu/Naifu.zip https://api.suwanya.cn/api/AI/Naifu.zip\n",
        "!unzip -o /content/naifu/Naifu.zip"
      ]
    },
    {
      "cell_type": "code",
      "execution_count": 6,
      "metadata": {
        "colab": {
          "base_uri": "https://localhost:8080/"
        },
        "id": "uQBR9zXQGJrn",
        "outputId": "a76a74dd-a67f-4bf0-d1f5-f00a1f18f4bd"
      },
      "outputs": [
        {
          "output_type": "stream",
          "name": "stdout",
          "text": [
            "[Errno 2] No such file or directory: '/content/naifu'\n",
            "/content\n",
            "sed: can't read run.sh: No such file or directory\n",
            "/bin/bash: cloudflared: command not found\n",
            "bash: run.sh: No such file or directory\n"
          ]
        }
      ],
      "source": [
        "#@title ### 启动模型\n",
        "#@markdown 访问输出的映射地址（以 `trycloudflare.com` / `bore.pub` 结尾）即可。\n",
        "#@markdown - 请等待模型加载完成（出现`Application startup complete`字样）再访问\n",
        "#@markdown - cloudflare 提供的服务偶尔会出现请求超时，可换用 bore 隧道\n",
        "\n",
        "%cd /content/naifu\n",
        "!sed -i 's/# export SAVE_FILES=\"1\"/export SAVE_FILES=\"1\"/g' run.sh\n",
        "!bash run.sh & cloudflared tunnel --url localhost:6969 "
      ]
    },
    {
      "cell_type": "code",
      "execution_count": 4,
      "metadata": {
        "id": "B9j9thAby5_2",
        "colab": {
          "base_uri": "https://localhost:8080/"
        },
        "outputId": "b1b73333-e111-478a-9d19-367eb04d7d5b"
      },
      "outputs": [
        {
          "output_type": "stream",
          "name": "stdout",
          "text": [
            "/content\n",
            "tar: animefull-latest.tar: Cannot open: No such file or directory\n",
            "tar: Error is not recoverable: exiting now\n",
            "sed: can't read /content/naifu/hydra_node/models.py: No such file or directory\n",
            "[Errno 2] No such file or directory: '/content/naifu'\n",
            "/content\n",
            "env: DTYPE=float16\n",
            "env: CLIP_CONTEXTS=3\n",
            "env: AMP=1\n",
            "env: MODEL=stable-diffusion\n",
            "env: DEV=True\n",
            "env: MODEL_PATH=models/animefull-latest\n",
            "env: ENABLE_EMA=1\n",
            "env: VAE_PATH=models/animevae.pt\n",
            "env: PENULTIMATE=1\n",
            "env: PYTHONDONTWRITEBYTECODE=1\n",
            "env: SAVE_FILES=1\n",
            "/bin/bash: cloudflared: command not found\n",
            "/bin/bash: bore: command not found\n",
            "/bin/bash: ./venv/bin/python: No such file or directory\n"
          ]
        }
      ],
      "source": [
        "#@title ### （可选）使用 7G 的 `animefull-latest` 模型运行\n",
        "#@markdown 默认使用的是 4G 大小的 animefull-final-pruned 模型。如果想使用 7G 的 animefull-latest 模型，运行这个\n",
        "\n",
        "%cd /content/\n",
        "!tar xf animefull-latest.tar -C /content/naifu/models && rm animefull-latest.tar\n",
        "!sed -i 's/map_location=\"cpu\"/map_location=\"cuda\"/g' /content/naifu/hydra_node/models.py\n",
        "\n",
        "%cd /content/naifu\n",
        "%env DTYPE=float16\n",
        "%env CLIP_CONTEXTS=3\n",
        "%env AMP=1\n",
        "%env MODEL=stable-diffusion\n",
        "%env DEV=True\n",
        "%env MODEL_PATH=models/animefull-latest\n",
        "%env ENABLE_EMA=1\n",
        "%env VAE_PATH=models/animevae.pt\n",
        "%env PENULTIMATE=1\n",
        "%env PYTHONDONTWRITEBYTECODE=1\n",
        "%env SAVE_FILES=1\n",
        "\n",
        "!./venv/bin/python -m uvicorn --host 0.0.0.0 --port=6969 main:app & bore local 6969 --to bore.pub & cloudflared tunnel --url localhost:6969 "
      ]
    }
  ],
  "metadata": {
    "accelerator": "GPU",
    "colab": {
      "provenance": [],
      "include_colab_link": true
    },
    "kernelspec": {
      "display_name": "Python 3",
      "name": "python3"
    },
    "language_info": {
      "name": "python"
    }
  },
  "nbformat": 4,
  "nbformat_minor": 0
}